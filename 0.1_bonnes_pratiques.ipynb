{
 "cells": [
  {
   "cell_type": "markdown",
   "metadata": {
    "slideshow": {
     "slide_type": "slide"
    }
   },
   "source": [
    "# Les bonnes pratiques du développeur Python\n",
    "\n",
    "![image](./images/best_practice.gif)"
   ]
  },
  {
   "cell_type": "markdown",
   "metadata": {
    "slideshow": {
     "slide_type": "slide"
    }
   },
   "source": [
    "# Concevoir un logiciel avec Python\n",
    "\n",
    "![image](./images/dev-gilbert.gif)"
   ]
  },
  {
   "cell_type": "markdown",
   "metadata": {
    "slideshow": {
     "slide_type": "subslide"
    }
   },
   "source": [
    "# Concevoir un outil\n",
    "\n",
    "1. Déterminer les besoins et fixer les objectifs : \n",
    "    - que doit faire le logiciel, dans quel cadre va-t-il servir, quels seront les utilisateurs types ? \n",
    "    - On rédige un cahier des charges avec le commanditaire du logiciel (Remarque : commanditaire = maître d’ouvrage ; réalisateur = maître d’oeuvre)\n",
    "2. Conception et spécifications : \n",
    "    - quels sont les fonctionnalités du logiciel, avec quelle interface ?\n",
    "3. Développement : modélisation et codage\n",
    "4. Tests : \n",
    "    - obtient-on les résultats attendus, les calculs sont corrects ?\n",
    "5. Déploiement : \n",
    "    - installer le chez le client (vérification des configurations, installation de l’exécutable et des fichiers annexes, etc.)\n",
    "6. Maintenance : \n",
    "    - corrective, traquer les bugs et les corriger ; évolutive\n"
   ]
  },
  {
   "cell_type": "markdown",
   "metadata": {
    "slideshow": {
     "slide_type": "subslide"
    }
   },
   "source": [
    "# Développement\n",
    "\n",
    "- Un certain nombre de questions se posent :\n",
    "    - Quel langage ?\n",
    "        - Dépend des méthodes mobilisées\n",
    "        - Dépend du format des données utilisées\n",
    "        - Dépend des objectifs attendus\n",
    "    - Un langage ou plusieurs langages ?\n",
    "        - Dépend des nécessités d’optimisations : Python est un bon langage mais peu rapide sur des grosses quantités de données\n",
    "        - A-t-on besoin de fonctionnalités très spécialisées : R\n",
    "        - A-t-on besoin de rapidité : C++\n",
    "        - Est-on dans le cadre de données « big data » non structurées : map reduce, scala…\n",
    "\n",
    "    "
   ]
  },
  {
   "cell_type": "markdown",
   "metadata": {
    "slideshow": {
     "slide_type": "subslide"
    }
   },
   "source": [
    "# Tests et maintenance\n",
    "\n",
    "Les points importants :\n",
    "- Versionnement\n",
    "- Tests unitaires\n",
    "- Intégration continue\n",
    "\n",
    "..."
   ]
  },
  {
   "cell_type": "markdown",
   "metadata": {
    "slideshow": {
     "slide_type": "slide"
    }
   },
   "source": [
    "# Projets\n",
    "\n",
    "- Un projet de développement doit être inscrit dans un projet python\n",
    "- Un projet, c'est :\n",
    "    - un ensemble de scripts\n",
    "    - un répertoire commun\n",
    "    - un environnement spécifique\n",
    "    - un nom"
   ]
  },
  {
   "cell_type": "markdown",
   "metadata": {
    "slideshow": {
     "slide_type": "subslide"
    }
   },
   "source": [
    "En voici un exemple :\n",
    "```\n",
    "README.rst\n",
    "LICENSE\n",
    "setup.py\n",
    "requirements.txt\n",
    "votre_code/__init__.py\n",
    "votre_code/core.py\n",
    "votre_code/helpers.py\n",
    "docs/conf.py\n",
    "docs/index.rst\n",
    "tests/test_basic.py\n",
    "tests/test_advanced.py\n",
    "```"
   ]
  },
  {
   "cell_type": "markdown",
   "metadata": {
    "slideshow": {
     "slide_type": "slide"
    }
   },
   "source": [
    "# La gestion des environnements\n",
    "\n",
    "Anaconda prompt vous permet de créer des environnements dans lesquels les packages que vous utilisez seront stockés.\n",
    "\n",
    "Au début de la ligne de commande, vous verrez l'environnement courant :\n",
    "```\n",
    "(base) c:\\...\n",
    "```\n",
    "Pour afficher tous les environnements disponibles, on utilise :\n",
    "```\n",
    "conda env list\n",
    "```\n",
    "Sous Windows, on active un environnement avec :\n",
    "```\n",
    "activate mon_env\n",
    "```\n",
    "Si vous voulez créer un environnement, on utilise :\n",
    "```\n",
    "conda create --name mon_env\n",
    "```\n"
   ]
  },
  {
   "cell_type": "markdown",
   "metadata": {
    "slideshow": {
     "slide_type": "subslide"
    }
   },
   "source": [
    "# La gestion des environnements (suite)\n",
    "\n",
    "### La sauvegarde d'environnements\n",
    "\n",
    "Pour sauvegarder un environnement dans un fichier .yml, on utilise :\n",
    "```\n",
    "conda env export > environment.yml\n",
    "```\n",
    "Pour charger un environnement à partir d'un fichier .yml, on utilise :\n",
    "```\n",
    "conda env create -f environment.yml\n",
    "```\n",
    "\n",
    "### Ajouter des packages dans votre environnements\n",
    "Depuis conda : `conda install scipy`\n",
    "\n",
    "Depuis PyPi : `pip install scipy`\n",
    "\n",
    "On privilégie l'approche *conda* à l'approche *pip* lorsque cela est possible\n",
    "\n",
    "Plus d'infos : <https://conda.io/docs/user-guide/tasks/manage-environments.html>"
   ]
  },
  {
   "cell_type": "markdown",
   "metadata": {
    "slideshow": {
     "slide_type": "slide"
    }
   },
   "source": [
    "# Les packages et les modules en Python\n",
    "\n",
    "- Il s’agit d’un ensemble de fonctions qui pourront être appelées d’un autre programme\n",
    "\n",
    "- On utilise :\n",
    "```\n",
    "import nom_pkg\n",
    "```\n",
    "- Si on utilise `as nm` par exemple, ceci permet de raccourcir l'appel aux fonctions du package\n",
    "- On peut utiliser `from mon_pkg import *`, dans ce cas plus de préfixes mais attention aux conflits\n",
    "- On peut aussi utiliser des fonctions ou des classes spécifiques (plus besoin de préfixe)\n",
    "```\n",
    "from pandas import Series\n",
    "```\n",
    "\n",
    "*Si on cherche des informations sur un module, on peut utiliser `dir()` et `help()`*"
   ]
  },
  {
   "cell_type": "code",
   "execution_count": 89,
   "metadata": {
    "slideshow": {
     "slide_type": "fragment"
    }
   },
   "outputs": [],
   "source": [
    "import numpy as np"
   ]
  },
  {
   "cell_type": "markdown",
   "metadata": {
    "slideshow": {
     "slide_type": "subslide"
    }
   },
   "source": [
    "# Créer votre module et votre package\n",
    "\n",
    "- Il est très simple de faire appel à des fonctions ou à des classes depuis un autre fichier\n",
    "- Il suffit de stocker vos classes et fonctions dans un fichier `.py`\n",
    "- Celui-ci pourra être stocké dans un répertoire appartenant aux chemins de Python ou dans votre répertoire de travail\n",
    "- Vous avez alors la possibilité de faire :\n",
    "```\n",
    "import mon_fichier\n",
    "```\n",
    "et d’utiliser les fonctions et classes de ce fichiers\n",
    "\n",
    "- Vous venez de créer un module. \n",
    "- **Attention ceci n’est pas un package !**"
   ]
  },
  {
   "cell_type": "markdown",
   "metadata": {
    "slideshow": {
     "slide_type": "subslide"
    }
   },
   "source": [
    "# Créer votre module et votre package (suite)\n",
    "\n",
    "\n",
    "- Un package est constitué de plus d’informations qu’un simple fichier `.py`\n",
    "\n",
    "\n",
    "- Voici les étapes pour créer votre premier package :\n",
    "    - Choisissez un nom simple et traduisant bien ce que va faire votre package (si possible un nom qui n’est pas déjà utilisé)\n",
    "    - Créez un répertoire du nom de votre package\n",
    "    - Créez un fichier `__init__.py` dans ce répertoire, ce fichier peut être vide dans un premier temps\n",
    "    - Dans le même répertoire ajoutez des fichiers avec vos fonctions et vos classes\n",
    "\n",
    "Si votre objectif est de publier le package sur PyPi, il faudra ajouter un fichier setup et les dépendances associées\n",
    "\n",
    "Pour importer votre package, il vous suffit de faire:\n",
    "```\n",
    "import nom_dossier.nom_fichier\n",
    "```"
   ]
  },
  {
   "cell_type": "markdown",
   "metadata": {
    "slideshow": {
     "slide_type": "subslide"
    }
   },
   "source": [
    "# Quelques détails sur la création de package\n",
    "\n",
    "- Le fichier `__init__.py` peut être vide mais il peut aussi contenir des informations\n",
    "- Ce fichier est lancé à chaque chargement du package, il peut inclure des dépendances, des vérifications de versions, des import vers les fonctions et classes des fichiers de votre package...\n",
    "\n",
    "\n",
    "- Où peut-on mettre nos packages ?\n",
    "    - Par défaut, si le package se trouve dans le même répertoire que le script exécuté, ça fonctionne\n",
    "    - Le package doit se trouver dans un répertoire lié au PythonPath\n",
    "    - Pour rechercher les répertoire, on utilise le module `sys` et la fonction `path`\n",
    "    - Pour créer un répertoire \"temporaire\", on utilise la fonction `path.insert()` du module `sys`"
   ]
  },
  {
   "cell_type": "markdown",
   "metadata": {
    "slideshow": {
     "slide_type": "slide"
    }
   },
   "source": [
    "# Bonnes pratiques Python"
   ]
  },
  {
   "cell_type": "markdown",
   "metadata": {
    "slideshow": {
     "slide_type": "subslide"
    }
   },
   "source": [
    "# Zen of Python\n",
    "\n",
    "- Beautiful is better than ugly.\n",
    "- Explicit is better than implicit.\n",
    "- Simple is better than complex.\n",
    "- Complex is better than complicated.\n",
    "- Flat is better than nested.\n",
    "- Sparse is better than dense.\n",
    "- Readability counts.\n",
    "- Special cases aren't special enough to break the rules.\n",
    "- Although practicality beats purity.\n",
    "- Errors should never pass silently.\n",
    "- Unless explicitly silenced.\n",
    "- In the face of ambiguity, refuse the temptation to guess.\n",
    "- There should be one-- and preferably only one --obvious way to do it.\n",
    "- Although that way may not be obvious at first unless you're Dutch.\n",
    "- Now is better than never.\n",
    "- Although never is often better than *right* now.\n",
    "- If the implementation is hard to explain, it's a bad idea.\n",
    "- If the implementation is easy to explain, it may be a good idea.\n",
    "- Namespaces are one honking great idea -- let's do more of those!\n",
    "\n",
    "https://www.python.org/dev/peps/pep-0020/"
   ]
  },
  {
   "cell_type": "markdown",
   "metadata": {
    "slideshow": {
     "slide_type": "subslide"
    }
   },
   "source": [
    "# Le plus important\n",
    "\n",
    "- \"Build tools for others that you want to be built for you.\" - Kenneth Reitz\n",
    "- \"Simplicity is alway better than functionality.\" - Pieter Hintjens\n",
    "- \"Fit the 90% use-case. Ignore the nay sayers.\" - Kenneth Reitz\n",
    "- \"Beautiful is better than ugly.\" - PEP 20\n",
    "- Build for open source (even for closed source projects)."
   ]
  },
  {
   "cell_type": "markdown",
   "metadata": {
    "slideshow": {
     "slide_type": "subslide"
    }
   },
   "source": [
    "# Remarques générales sur le développement\n",
    "\n",
    "- \"Explicit is better than implicit\" - PEP 20\n",
    "- \"Readability counts.\" - PEP 20\n",
    "- \"Anybody can fix anything.\" - Khan Academy Development Docs\n",
    "- Fix each broken window (bad design, wrong decision, or poor code) as soon as it is discovered.\n",
    "- \"Now is better than never.\" - PEP 20\n",
    "- Test ruthlessly. Write docs for new features.\n",
    "- Even more important that Test-Driven Development--Human-Driven Development\n",
    "- These guidelines may--and probably will--change."
   ]
  },
  {
   "cell_type": "markdown",
   "metadata": {
    "slideshow": {
     "slide_type": "slide"
    }
   },
   "source": [
    "# Bonnes pratiques Python\n",
    "\n",
    "PEP8 vous aidera mais certains points sont centraux : https://www.python.org/dev/peps/pep-0008/\n",
    "\n",
    "\n",
    "## L'indentation en python :\n",
    "- 4 espaces\n",
    "- pas de  tabulations\n"
   ]
  },
  {
   "cell_type": "markdown",
   "metadata": {
    "slideshow": {
     "slide_type": "subslide"
    }
   },
   "source": [
    "# Nommage\n",
    "\n",
    "- Variables, fonctions, méthodes, packages, modules :\n",
    "`lower_case_with_underscores`\n",
    "- Classes et Exceptions\n",
    "`CapWords`\n",
    "- Méthodes protégées et fonctions internes :\n",
    "`_single_leading_underscore(self, ...)`\n",
    "- Méthode privées :\n",
    "`__double_leading_underscore(self, ...)`\n",
    "- Constantes\n",
    "`ALL_CAPS_WITH_UNDERSCORES`\n",
    "\n",
    "D'autres règles :\n",
    "- on écite les nom trop courts\n",
    "- les noms doivent traduire clairement ce que fait l'objet"
   ]
  },
  {
   "cell_type": "markdown",
   "metadata": {
    "slideshow": {
     "slide_type": "slide"
    }
   },
   "source": [
    "# Bonnes pratiques\n",
    "\n",
    "- Les sauts de lignes\n",
    "    - On sépare des fonctions ou des classes par deux lignes\n",
    "    - On sépare les méthodes d’une classe par un ligne\n",
    "- Les imports\n",
    "    - Un import par ligne\n",
    "    - Tous les imports en haut du fichier .py\n",
    "    - Les imports sont séparés en 3 parties\n",
    "        1. Imports de modules Python (`import sys`)\n",
    "        2. Imports de packages tiers (`import numpy as np`)\n",
    "        3. Imports de modules personnels (`import mon_pkg as mp`)"
   ]
  },
  {
   "cell_type": "markdown",
   "metadata": {
    "slideshow": {
     "slide_type": "subslide"
    }
   },
   "source": [
    "# Les chemins\n",
    "\n",
    "On peut utiliser soit le module os ou pathlib, soit `/`, soit `\\\\`"
   ]
  },
  {
   "cell_type": "code",
   "execution_count": 10,
   "metadata": {
    "slideshow": {
     "slide_type": "fragment"
    }
   },
   "outputs": [],
   "source": [
    "import os\n",
    "from pathlib import Path\n",
    "path1=\"../data/\"\n",
    "path2=\"c:\\\\user\\\\\"\n",
    "path3=Path(path1)"
   ]
  },
  {
   "cell_type": "markdown",
   "metadata": {
    "slideshow": {
     "slide_type": "slide"
    }
   },
   "source": [
    "# Les commentaires\n",
    "\n",
    "- Plus de commentaires ne veut pas dire plus de qualité\n",
    "- Un bon code en Python c'est :\n",
    "    - Peu de commentaires\n",
    "    - Un code très lisible\n",
    "    - Des docstrings extrêmement détaillés\n",
    "- Mieux vaut pas de commentaire qu’un commentaire faux -> mettez à jour vos commentaires\n",
    "- Evitez dans la mesure du possible les commentaires en fin de ligne\n",
    "- Lorsqu’il s’agit d’explications sur des fonctions ou des classes, on utilise des docstring"
   ]
  },
  {
   "cell_type": "code",
   "execution_count": 1,
   "metadata": {
    "slideshow": {
     "slide_type": "subslide"
    }
   },
   "outputs": [],
   "source": [
    "# bien\n",
    "def ma_fonction(liste1):\n",
    "    \"\"\" Cette fonction permet de faire la somme des éléments d'une liste \"\"\"\n",
    "    \n",
    "    #on vérifie qu'on a bien des nombres\n",
    "    if all(isinstance(x, (int, float)) for x in liste1):\n",
    "        return sum(liste1)\n",
    "    else:\n",
    "        print(\"La liste doit être composée de nombres\")"
   ]
  },
  {
   "cell_type": "code",
   "execution_count": null,
   "metadata": {},
   "outputs": [],
   "source": [
    "ma_fonction()"
   ]
  },
  {
   "cell_type": "code",
   "execution_count": 2,
   "metadata": {},
   "outputs": [],
   "source": [
    "from sklearn.cluster import KMeans"
   ]
  },
  {
   "cell_type": "code",
   "execution_count": 8,
   "metadata": {},
   "outputs": [],
   "source": [
    "KMeans?"
   ]
  },
  {
   "cell_type": "code",
   "execution_count": 16,
   "metadata": {
    "slideshow": {
     "slide_type": "fragment"
    }
   },
   "outputs": [],
   "source": [
    "# encore mieux\n",
    "def ma_fonction2(liste1):\n",
    "    \"\"\" Cette fonction permet de faire la somme des éléments d'une liste \"\"\"\n",
    "    try:\n",
    "        return sum(liste1)\n",
    "    except TypeError:\n",
    "        print(\"La liste doit être composée de nombres\")"
   ]
  },
  {
   "cell_type": "code",
   "execution_count": 9,
   "metadata": {},
   "outputs": [],
   "source": [
    "import numpy as np"
   ]
  },
  {
   "cell_type": "code",
   "execution_count": 10,
   "metadata": {},
   "outputs": [],
   "source": [
    "array1=np.random.randn(1000)"
   ]
  },
  {
   "cell_type": "code",
   "execution_count": 12,
   "metadata": {},
   "outputs": [
    {
     "data": {
      "text/plain": [
       "numpy.ndarray"
      ]
     },
     "execution_count": 12,
     "metadata": {},
     "output_type": "execute_result"
    }
   ],
   "source": [
    "type(array1)"
   ]
  },
  {
   "cell_type": "code",
   "execution_count": 13,
   "metadata": {},
   "outputs": [
    {
     "data": {
      "text/plain": [
       "0.030274965701882026"
      ]
     },
     "execution_count": 13,
     "metadata": {},
     "output_type": "execute_result"
    }
   ],
   "source": [
    "array1.mean()"
   ]
  },
  {
   "cell_type": "code",
   "execution_count": 14,
   "metadata": {},
   "outputs": [
    {
     "data": {
      "text/plain": [
       "0.030274965701882026"
      ]
     },
     "execution_count": 14,
     "metadata": {},
     "output_type": "execute_result"
    }
   ],
   "source": [
    "np.mean(array1)"
   ]
  },
  {
   "cell_type": "code",
   "execution_count": 15,
   "metadata": {},
   "outputs": [],
   "source": [
    "from statsmodels.stats.weightstats import DescrStatsW"
   ]
  },
  {
   "cell_type": "code",
   "execution_count": 16,
   "metadata": {},
   "outputs": [],
   "source": [
    "DescrStatsW??"
   ]
  },
  {
   "cell_type": "markdown",
   "metadata": {
    "slideshow": {
     "slide_type": "slide"
    }
   },
   "source": [
    "# La documentation\n",
    "\n",
    "Les commentaires et la documentation sont très liés.\n",
    "\n",
    "- On utilisera les docstrings de Python pour générer de la documentation.\n",
    "- On se basera sur les bonnes pratiques de http://www.python.org/dev/peps/pep-0257/\n",
    "- **reStructured Text** et **Sphinx** seront des outils centraux\n",
    "\n",
    "Les docstrings pour des fonctions ou des méthodes simples peuvent être écrits sur une seule ligne. Sinon, on structurera le docstring.\n",
    "\n"
   ]
  },
  {
   "cell_type": "code",
   "execution_count": 1,
   "metadata": {
    "slideshow": {
     "slide_type": "fragment"
    }
   },
   "outputs": [],
   "source": [
    "def train(train_data):\n",
    "    \"\"\"Train a model to classify Foos and Bars.\n",
    "\n",
    "    Usage::\n",
    "\n",
    "        >>> data = [(\"green\", \"foo\"), (\"orange\", \"bar\")]\n",
    "        >>> classifier = model.train(data)\n",
    "\n",
    "    :param train_data: A list of tuples of the form ``(color, label)``.\n",
    "    :rtype: A :class:`Classifier <Classifier>`\n",
    "    \"\"\"\n",
    "    return train_data"
   ]
  }
 ],
 "metadata": {
  "celltoolbar": "Diaporama",
  "kernelspec": {
   "display_name": "Python 3",
   "language": "python",
   "name": "python3"
  },
  "language_info": {
   "codemirror_mode": {
    "name": "ipython",
    "version": 3
   },
   "file_extension": ".py",
   "mimetype": "text/x-python",
   "name": "python",
   "nbconvert_exporter": "python",
   "pygments_lexer": "ipython3",
   "version": "3.6.5"
  }
 },
 "nbformat": 4,
 "nbformat_minor": 2
}
