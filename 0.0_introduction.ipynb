{
 "cells": [
  {
   "cell_type": "markdown",
   "metadata": {
    "slideshow": {
     "slide_type": "slide"
    }
   },
   "source": [
    "# Formation Machine Learning et Deep Learning avec Python\n",
    "\n",
    "### AXA Direct\n",
    "\n",
    "### 9 et 10 janvier 2019\n",
    "\n",
    "#### Emmanuel Jakobowicz - stat4decision\n"
   ]
  },
  {
   "cell_type": "markdown",
   "metadata": {
    "slideshow": {
     "slide_type": "slide"
    }
   },
   "source": [
    "# Programme (1ère partie)\n",
    "\n",
    "#### 1. Bonnes pratiques pour vos développements\n",
    "a. Généralités<br>\n",
    "b. Projets<br>\n",
    "c. Environnements<br>\n",
    "d. Packages\n",
    "\n",
    "#### 2. Bonnes pratiques avec Python\n",
    "a. Généralités<br>\n",
    "b. Nommage<br>\n",
    "c. Organisation du code\n",
    "\n",
    "#### 3. Documentation\n",
    "\n",
    "#### 4. Programmation orientée objet\n",
    "\n",
    "#### 5. Accélérer vos codes\n",
    "a. Avec Python<br>\n",
    "b. Avec Numba<br>\n",
    "c. Avec Dask"
   ]
  },
  {
   "cell_type": "markdown",
   "metadata": {
    "slideshow": {
     "slide_type": "subslide"
    }
   },
   "source": [
    "# Programme (2ème partie)\n",
    "\n",
    "#### Le machine learning avec Python\n",
    "a. Apprentissage supervisé avec Scikit-Learn <br>\n",
    "b. Apprentissage non supervisé avec Scikit-Learn <br>\n",
    "c. Exercice sur données réelles\n",
    "\n",
    "#### Le deep learning avec Python\n",
    "a. Présentation des principes du deep learning <br>\n",
    "b. Les réseaux de neurones avec Keras et Tensor-Flow <br>\n",
    "c. Gestion du sur-apprentissage <br>\n",
    "d. Les réseaux de neurones à convolutions pour le traitement des images <br>\n",
    "e. Les réseaux de neurones récurrents pour le traitement des données textuelles <br>"
   ]
  },
  {
   "cell_type": "markdown",
   "metadata": {
    "slideshow": {
     "slide_type": "slide"
    }
   },
   "source": [
    "# Votre formateur\n",
    "\n",
    "Emmanuel Jakobowicz, PhD informatique / stat. appliquées\n",
    "\n",
    "- Formateur depuis plus de 15 ans (data mining, logiciels, méthodologie…)\n",
    "- Développeur python, R, C++\n",
    "- Consultant statistique / data mining auprès de grands groupes et centres de recherche\n"
   ]
  },
  {
   "cell_type": "markdown",
   "metadata": {
    "slideshow": {
     "slide_type": "subslide"
    }
   },
   "source": [
    "# Tour de table des besoins et attentes\n",
    "![image.png](./Images/tour_de_table.png)"
   ]
  },
  {
   "cell_type": "markdown",
   "metadata": {
    "slideshow": {
     "slide_type": "slide"
    }
   },
   "source": [
    "## Python 2 ou Python 3 ?\n",
    "\n",
    "- Python 3 a été introduit en 2008\n",
    "- Python 2 est encore très utilisé\n",
    "\n",
    "Nous utilisons dans cette formation python 3 car il s’agit de la version la plus récente. Il est simple de travailler en python 2 lorsqu’on maitrise python 3\n"
   ]
  },
  {
   "cell_type": "code",
   "execution_count": null,
   "metadata": {
    "slideshow": {
     "slide_type": "fragment"
    }
   },
   "outputs": [],
   "source": [
    "# Ce qui a changé avec Python 3 :\n",
    "# python 2\n",
    "print \"Python\"\n",
    "# python 3\n",
    "print(\"Python\")"
   ]
  },
  {
   "cell_type": "code",
   "execution_count": 1,
   "metadata": {
    "scrolled": true,
    "slideshow": {
     "slide_type": "subslide"
    }
   },
   "outputs": [
    {
     "name": "stderr",
     "output_type": "stream",
     "text": [
      "C:\\Users\\s4d-asus-14\\Anaconda3\\lib\\site-packages\\IPython\\core\\display.py:689: UserWarning: Consider using IPython.display.IFrame instead\n",
      "  warnings.warn(\"Consider using IPython.display.IFrame instead\")\n"
     ]
    },
    {
     "data": {
      "text/html": [
       "<iframe src=https://pythonclock.org/ width=700 height=350></iframe>"
      ],
      "text/plain": [
       "<IPython.core.display.HTML object>"
      ]
     },
     "execution_count": 1,
     "metadata": {},
     "output_type": "execute_result"
    }
   ],
   "source": [
    "import IPython\n",
    "url = 'https://pythonclock.org/'\n",
    "iframe = '<iframe src=' + url + ' width=700 height=350></iframe>'\n",
    "IPython.display.HTML(iframe)"
   ]
  }
 ],
 "metadata": {
  "celltoolbar": "Diaporama",
  "kernelspec": {
   "display_name": "Python 3",
   "language": "python",
   "name": "python3"
  },
  "language_info": {
   "codemirror_mode": {
    "name": "ipython",
    "version": 3
   },
   "file_extension": ".py",
   "mimetype": "text/x-python",
   "name": "python",
   "nbconvert_exporter": "python",
   "pygments_lexer": "ipython3",
   "version": "3.6.5"
  }
 },
 "nbformat": 4,
 "nbformat_minor": 2
}
