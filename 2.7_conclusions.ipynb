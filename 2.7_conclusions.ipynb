{
 "cells": [
  {
   "cell_type": "markdown",
   "metadata": {},
   "source": [
    "# Conclusions\n",
    "\n",
    "\n",
    "9.1. Concepts clés en revue\n",
    "Cette section résume brièvement les points clés de ce livre. Si vous avez besoin d’un rappel rapide pour vous rappeler ce que vous avez appris, vous pouvez lire ces quelques pages.\n",
    "\n",
    "9.1.1. Diverses approches de l'IA\n",
    "Tout d’abord, approfondir n’est pas synonyme d’intelligence artificielle ni même d’apprentissage automatique. L'intelligence artificielle est un domaine vaste et ancien que l'on peut généralement définir comme «toute tentative d'automatisation des processus cognitifs», autrement dit, l'automatisation de la pensée. Cela peut aller du plus simple, comme un tableur Excel, au très avancé, comme un robot humanoïde capable de marcher et de parler.\n",
    "\n",
    "L'apprentissage automatique est un sous-domaine spécifique de l'IA qui vise à développer automatiquement des programmes (appelés modèles) uniquement à partir de l'exposition à des données d'apprentissage. Ce processus de transformation de données en programme s'appelle l'apprentissage. Bien que l’apprentissage automatique existe depuis longtemps, il n’a commencé à décoller que dans les années 90.\n",
    "\n",
    "L'apprentissage en profondeur est l'une des nombreuses branches de l'apprentissage automatique, où les modèles sont de longues chaînes de fonctions géométriques, appliquées les unes après les autres. Ces opérations sont structurées en modules appelés couches: les modèles d'apprentissage en profondeur sont généralement des piles de couches ou, plus généralement, des graphiques de couches. Ces couches sont paramétrées par des poids, qui sont les paramètres appris lors de l'entraînement. La connaissance d'un modèle est stockée dans ses poids et le processus d'apprentissage consiste à trouver de bonnes valeurs pour ces poids.\n",
    "\n",
    "Bien que l’apprentissage en profondeur ne soit qu’une des nombreuses approches de l’apprentissage automatique, il n’est pas sur un pied d’égalité avec les autres. L'apprentissage en profondeur est un succès éclatant. Voici pourquoi.\n",
    "\n",
    "\n",
    "\n",
    "9.1.2. Qu'est-ce qui rend l'apprentissage en profondeur spécial dans le domaine de l'apprentissage automatique\n",
    "En quelques années seulement, l’apprentissage en profondeur a permis de réaliser d’énormes progrès dans un large éventail de tâches qui étaient historiquement perçues comme extrêmement difficiles pour les ordinateurs, en particulier dans le domaine de la perception automatique: extraire des informations utiles à partir d’images, de vidéos, de sons, etc. et plus. Avec suffisamment de données de formation (en particulier des données de formation correctement étiquetées par les humains), il est possible d’extraire des données de perception presque tout ce qu’un humain peut extraire. Par conséquent, on dit parfois que l’apprentissage en profondeur a résolu la perception, bien que cela ne soit vrai que pour une définition assez étroite de la perception.\n",
    "\n",
    "En raison de ses succès techniques sans précédent, l’apprentissage en profondeur a à lui seul provoqué le troisième et de loin le plus grand été de l’IA: une période d’intérêt intense, d’investissements et de battage médiatique dans le domaine de l’IA. Au moment de la rédaction de ce livre, nous sommes en train de le faire. La question de savoir si cette période se terminera dans un avenir proche et ce qui se passera après cette fin sont des sujets de discussion. Une chose est sûre: contrairement aux étés précédents de l'IA, l'apprentissage en profondeur a apporté une valeur ajoutée considérable à un certain nombre de grandes entreprises du secteur des technologies, permettant la reconnaissance de la parole au niveau humain, des assistants intelligents, la classification des images au niveau humain, une traduction automatique considérablement améliorée et plus. Le battage publicitaire peut (et sera probablement) reculer, mais l'impact économique et technologique durable de l'apprentissage en profondeur demeurera. En ce sens, l’apprentissage en profondeur pourrait être analogue à Internet: il sera peut-être trop populaire pendant quelques années, mais à long terme, ce sera toujours une révolution majeure qui transformera notre économie et nos vies.\n",
    "\n",
    "Je suis particulièrement optimiste quant à l’apprentissage en profondeur, car même si nous n’allions pas réaliser de progrès technologique au cours de la prochaine décennie, le déploiement d’algorithmes existants pour chaque problème applicable changerait la donne pour la plupart des industries. L'apprentissage en profondeur n'est rien de moins qu'une révolution, et les progrès se produisent actuellement à un rythme incroyablement rapide, grâce à un investissement exponentiel en ressources et en effectifs. De mon point de vue, l’avenir me semble prometteur, même si les attentes à court terme sont un peu trop optimistes; plus de dix ans seront nécessaires pour déployer l’apprentissage en profondeur dans toute la mesure de son potentiel."
   ]
  },
  {
   "cell_type": "markdown",
   "metadata": {},
   "source": [
    "\n",
    "9.1.3. Comment penser à l'apprentissage en profondeur\n",
    "La chose la plus surprenante à propos de l’apprentissage en profondeur est sa simplicité.\n",
    "\n",
    "En apprentissage en profondeur, tout est vecteur: tout est un point dans un espace géométrique. Les entrées de modèle (texte, images, etc.) et les cibles sont d'abord vectorisées: transformées en un espace vectoriel d'entrée initial et en un espace vectoriel cible. Chaque couche d'un modèle d'apprentissage en profondeur effectue une transformation géométrique simple sur les données qui la traversent. Ensemble, la chaîne de couches dans le modèle forme une transformation géométrique complexe, décomposée en une série de simples. Cette transformation complexe tente de mapper l'espace d'entrée sur l'espace cible, point par point. Cette transformation est paramétrée par les poids des couches, qui sont mis à jour de manière itérative en fonction de la performance actuelle du modèle. Une caractéristique essentielle de cette transformation géométrique est qu'elle doit être différentiable, ce qui est nécessaire pour que nous puissions apprendre ses paramètres via la descente de gradient. Intuitivement, cela signifie que le morphing géométrique des entrées vers les sorties doit être lisse et continu - une contrainte importante.\n",
    "\n",
    "L'ensemble du processus d'application de cette transformation géométrique complexe aux données d'entrée peut être visualisé en 3D en imaginant une personne essayant de supprimer une boule de papier: la boule de papier froissée est la variété des données d'entrée par lesquelles le modèle commence. Chaque mouvement opéré par la personne sur la balle en papier est similaire à une simple transformation géométrique opérée par une couche. La séquence complète de gestes de non-froissement est la transformation complexe du modèle entier. Les modèles d’apprentissage en profondeur sont des machines mathématiques permettant de décompresser des variétés complexes de données de grande dimension.\n",
    "\n",
    "C’est la magie de l’apprentissage en profondeur: transformer le sens en vecteurs, en espaces géométriques, puis en apprenant progressivement des transformations géométriques complexes mappant un espace à un autre. Tout ce dont vous avez besoin sont des espaces de dimensionnalité suffisamment élevée pour saisir toute la portée des relations trouvées dans les données d'origine.\n",
    "\n",
    "Tout repose sur une idée centrale: cette signification découle de la relation par paire entre les choses (entre les mots d'une langue, entre les pixels d'une image, etc.) et que ces relations peuvent être capturées par une fonction de distance. Mais notons que la question de savoir si le cerveau met en œuvre la signification via des espaces géométriques est une question totalement distincte. Les espaces vectoriels sont efficaces pour travailler du point de vue informatique, mais différentes structures de données pour l’intelligence peuvent facilement être envisagées, en particulier des graphiques. Les réseaux de neurones sont à l’origine de l’idée d’utiliser les graphes comme moyen de coder le sens. C’est pourquoi ils sont appelés réseaux de neurones; le domaine de la recherche qui l'entourait s'appelait jadis le connexionnisme."
   ]
  },
  {
   "cell_type": "markdown",
   "metadata": {},
   "source": [
    "9.1.5. The universal machine-learning workflow\n",
    "Having access to an extremely powerful tool for creating models that map any input space to any target space is great, but the difficult part of the machine-learning workflow is often everything that comes before designing and training such models (and, for production models, what comes after, as well). Understanding the problem domain so as to be able to determine what to attempt to predict, given what data, and how to measure success, is a prerequisite for any successful application of machine learning, and it isn’t something that advanced tools like Keras and TensorFlow can help you with. As a reminder, here’s a quick summary of the typical machine-learning workflow as described in chapter 4:\n",
    "\n",
    "Define the problem: What data is available, and what are you trying to predict? Will you need to collect more data or hire people to manually label a dataset?\n",
    "Identify a way to reliably measure success on your goal. For simple tasks, this may be prediction accuracy, but in many cases it will require sophisticated domain-specific metrics.\n",
    "Prepare the validation process that you’ll use to evaluate your models. In particular, you should define a training set, a validation set, and a test set. The validation- and test-set labels shouldn’t leak into the training data: for instance, with temporal prediction, the validation and test data should be posterior to the training data.\n",
    "Vectorize the data by turning it into vectors and preprocessing it in a way that makes it more easily approachable by a neural network (normalization, and so on).\n",
    "Develop a first model that beats a trivial common-sense baseline, thus demonstrating that machine learning can work on your problem. This may not always be the case!\n",
    "Gradually refine your model architecture by tuning hyperparameters and adding regularization. Make changes based on performance on the validation data only, not the test data or the training data. Remember that you should get your model to overfit (thus identifying a model capacity level that’s greater than you need) and only then begin to add regularization or downsize your model.\n",
    "Be aware of validation-set overfitting when turning hyperparameters: the fact that your hyperparameters may end up being overspecialized to the validation set. Avoiding this is the purpose of having a separate test set!"
   ]
  },
  {
   "cell_type": "markdown",
   "metadata": {},
   "source": [
    "9.1.6. Key network architectures\n",
    "\n",
    "Densely connected networks\n",
    "\n",
    "Convnets\n",
    "\n",
    "Recurrent neural networks (RNNs) \n",
    "\n"
   ]
  },
  {
   "cell_type": "markdown",
   "metadata": {},
   "source": [
    "\n",
    "9.1.7. L'espace des possibles\n",
    "Qu'allez-vous construire avec un apprentissage en profondeur?\n",
    "\n",
    "J'ai trié les applications suggérées en fonction des modalités d'entrée et de sortie. Notez que bon nombre d’entre elles dépassent les limites du possible. Bien qu’un modèle puisse être formé à toutes ces tâches, il est probable qu’un tel modèle ne se généraliserait probablement pas loin de ses données de formation. Les sections 9.2 et 9.3 traiteront de la manière dont ces limitations pourraient être levées à l’avenir.\n",
    "\n",
    "Mappage de données vectorielles en données vectorielles\n",
    "Soins de santé prévisionnels - Cartographie des dossiers médicaux des patients avec les prévisions des résultats pour les patients\n",
    "Ciblage comportemental: mappage d'un ensemble d'attributs de site Web avec des données sur la durée d'utilisation d'un site par l'utilisateur\n",
    "Contrôle de la qualité du produit - Mappage d'un ensemble d'attributs par rapport à une instance d'un produit fabriqué avec la probabilité que le produit échoue l'année prochaine\n",
    "Mappage des données d'image en données vectorielles\n",
    "Assistant de médecin— Cartographie de diapositives d'images médicales et prévision de la présence d'une tumeur\n",
    "Véhicule autonome - Mappage des images vidéo de la caméra de bord et des commandes d'angle de volant\n",
    "Jeu de société AI— Mapping Go et échiquiers au prochain mouvement du joueur\n",
    "Aide diététique - Cartographie des images d'un plat en fonction de son nombre de calories\n",
    "Prévision de l'âge - Mapper les selfies à l'âge de la personne\n",
    "Mappage des données de séries chronologiques sur des données vectorielles\n",
    "Prévision météorologique - Mappage de séries chronologiques de données météorologiques dans une grille d'emplacements de données météorologiques la semaine suivante à un emplacement spécifique\n",
    "Interfaces cerveau-ordinateur - Mappage de séries de temps de données de magnétoencéphalogramme (MEG) avec des commandes informatiques\n",
    "Ciblage comportemental - Mappage de séries chronologiques d'interactions utilisateur sur un site Web avec la probabilité qu'un utilisateur achète quelque chose\n",
    "Mappage de texte en texte\n",
    "Réponse intelligente - Mappage des e-mails avec les réponses possibles sur une ligne\n",
    "Répondre aux questions - Faire correspondre les questions de connaissances générales aux réponses\n",
    "Résumé - Associer un long article à un court résumé de l'article\n",
    "Mapper des images en texte\n",
    "Sous-titrage - Mappage des images en sous-titres décrivant le contenu des images\n",
    "Mappage de texte en images\n",
    "Génération d'images conditionnées - Mappage d'une courte description textuelle sur des images correspondant à la description\n",
    "Création / sélection du logo - Correspondance entre le nom et la description d’une entreprise et son logo\n",
    "Cartographie d'images en images\n",
    "Super résolution: mappage d'images réduites vers des versions à résolution supérieure des mêmes images\n",
    "Détection visuelle de la profondeur - Cartographie des images d'environnements intérieurs avec des cartes de prédiction de la profondeur\n",
    "Mappage d'images et de texte en texte\n",
    "QA visuel - Mappage d'images et de questions en langage naturel sur le contenu des images en réponses en langage naturel\n",
    "Mappage de la vidéo et du texte en texte\n",
    "AQ vidéo - Mappage de courtes vidéos et de questions en langage naturel sur le contenu des vidéos avec des réponses en langage naturel"
   ]
  },
  {
   "cell_type": "markdown",
   "metadata": {},
   "source": [
    "# Limites\n",
    "\n",
    "\n",
    "L'espace d'applications pouvant être implémentées avec un apprentissage en profondeur est presque infini. Et pourtant, de nombreuses applications sont totalement hors de portée des techniques actuelles d’apprentissage en profondeur, même en présence de vastes quantités de données annotées par l’homme. Supposons, par exemple, que vous puissiez assembler un ensemble de données contenant des centaines, voire des millions, de descriptions en anglais des fonctionnalités d’un logiciel, écrites par un chef de produit, ainsi que le code source correspondant développé par une équipe de ingénieurs pour répondre à ces exigences. Même avec ces données, vous ne pouviez pas former un modèle d'apprentissage en profondeur pour lire une description de produit et générer le code de base approprié. Ce n’est qu’un exemple parmi d’autres. En général, tout ce qui nécessite un raisonnement - comme la programmation ou l'application d'une méthode scientifique - la planification à long terme et la manipulation de données algorithmiques est hors de portée pour les modèles d'apprentissage en profondeur, quelle que soit la quantité de données que vous leur envoyez. Même apprendre un algorithme de tri avec un réseau de neurones profonds est extrêmement difficile.\n",
    "\n",
    "En effet, un modèle d'apprentissage en profondeur est simplement une chaîne de transformations géométriques simples et continues mappant un espace vectoriel dans un autre. Tout ce qu'il peut faire est de mapper une variété de données X dans une autre variété Y, en supposant l'existence d'une transformation continue pouvant être apprise de X à Y. Un modèle d'apprentissage en profondeur peut être interprété comme une sorte de programme; mais, inversement, la plupart des programmes ne peuvent pas être exprimés sous forme de modèles d'apprentissage en profondeur: pour la plupart des tâches, il n'existe aucun réseau de neurones profonds correspondant qui résout la tâche ou La transformation peut être beaucoup trop complexe ou les données appropriées pour l’apprendre peuvent ne pas être disponibles.\n",
    "\n",
    "L'extension des techniques d'apprentissage en profondeur actuelles en empilant davantage de couches et en utilisant davantage de données d'apprentissage ne peut pallier que superficiellement certains de ces problèmes. Cela ne résoudra pas les problèmes plus fondamentaux que les modèles d’apprentissage en profondeur sont limités dans ce qu’ils peuvent représenter et que la plupart des programmes que vous souhaitez peut-être apprendre ne peuvent pas être exprimés comme un morphing continu géométrique d’une variété de données."
   ]
  },
  {
   "cell_type": "markdown",
   "metadata": {},
   "source": [
    "# Comment suivre les évolutions \n",
    "\n",
    "9.4.1. Practice on real-world problems using Kaggle\n",
    "9.4.2. Read about the latest developments on arXiv\n",
    "9.4.3. Explore the Keras ecosystem\n"
   ]
  }
 ],
 "metadata": {
  "kernelspec": {
   "display_name": "Python 3",
   "language": "python",
   "name": "python3"
  },
  "language_info": {
   "codemirror_mode": {
    "name": "ipython",
    "version": 3
   },
   "file_extension": ".py",
   "mimetype": "text/x-python",
   "name": "python",
   "nbconvert_exporter": "python",
   "pygments_lexer": "ipython3",
   "version": "3.6.5"
  }
 },
 "nbformat": 4,
 "nbformat_minor": 2
}
